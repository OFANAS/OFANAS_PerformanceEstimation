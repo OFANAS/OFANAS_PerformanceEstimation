{
 "cells": [
  {
   "cell_type": "markdown",
   "metadata": {},
   "source": [
    "# Generalized Latency Performance Estimation for Once-For-All Neural Architecture Search\n"
   ]
  },
  {
   "cell_type": "markdown",
   "metadata": {},
   "source": [
    "## High Level Overview"
   ]
  },
  {
   "cell_type": "markdown",
   "metadata": {},
   "source": [
    "<img src=\"latency_predictor/nas_overview.png\" width=800 height=800 />"
   ]
  },
  {
   "cell_type": "markdown",
   "metadata": {},
   "source": [
    "## Architecture"
   ]
  },
  {
   "cell_type": "markdown",
   "metadata": {},
   "source": [
    "<img src=\"latency_predictor/lnas_architecture.png\" width=900 height=900 />"
   ]
  },
  {
   "cell_type": "markdown",
   "metadata": {},
   "source": [
    "In this notebook, we will be demonstrating:\n",
    "- Latency predictor to predict latency of a given model architecture \n",
    "- Generalization of the Latency predictor over different hardware\n",
    "- Effects of using Latency predictors in Neural Architecture Search paradigm (OFA)"
   ]
  },
  {
   "cell_type": "markdown",
   "metadata": {},
   "source": [
    "## Initialization"
   ]
  },
  {
   "cell_type": "markdown",
   "metadata": {},
   "source": [
    "Initialize OFA Code:"
   ]
  },
  {
   "cell_type": "code",
   "execution_count": 1,
   "metadata": {},
   "outputs": [
    {
     "name": "stdout",
     "output_type": "stream",
     "text": [
      "Successfully imported all packages and configured random seed to 10291284!\n"
     ]
    }
   ],
   "source": [
    "import torch\n",
    "import numpy as np\n",
    "import time\n",
    "import random\n",
    "import os\n",
    "from collections import *\n",
    "\n",
    "from accuracy_predictor import AccuracyPredictor\n",
    "\n",
    "from latency_table import LatencyTable\n",
    "from evolution_finder import EvolutionFinder\n",
    "import csv\n",
    "import pandas as pd\n",
    "\n",
    "import sys\n",
    "sys.path.append(\"..\")\n",
    "from ofa.model_zoo import ofa_net\n",
    "import matplotlib.pyplot as plt\n",
    "\n",
    "# set random seed\n",
    "random_seed = 10291284\n",
    "random.seed(random_seed)\n",
    "np.random.seed(random_seed)\n",
    "torch.manual_seed(random_seed)\n",
    "print('Successfully imported all packages and configured random seed to %d!'%random_seed)"
   ]
  },
  {
   "cell_type": "code",
   "execution_count": 2,
   "metadata": {},
   "outputs": [
    {
     "name": "stdout",
     "output_type": "stream",
     "text": [
      "Using CPU.\n"
     ]
    }
   ],
   "source": [
    "cuda_available = torch.cuda.is_available()\n",
    "if cuda_available:\n",
    "    torch.backends.cudnn.enabled = True\n",
    "    torch.backends.cudnn.benchmark = True\n",
    "    torch.cuda.manual_seed(random_seed)\n",
    "    print('Using GPU.')\n",
    "else:\n",
    "    print('Using CPU.')"
   ]
  },
  {
   "cell_type": "code",
   "execution_count": 3,
   "metadata": {},
   "outputs": [
    {
     "name": "stdout",
     "output_type": "stream",
     "text": [
      "The OFA Network is ready.\n"
     ]
    }
   ],
   "source": [
    "ofa_network = ofa_net('ofa_mbv3_d234_e346_k357_w1.0', pretrained=True)\n",
    "print('The OFA Network is ready.')\n",
    "data_loader = None"
   ]
  },
  {
   "cell_type": "code",
   "execution_count": 4,
   "metadata": {},
   "outputs": [
    {
     "name": "stdout",
     "output_type": "stream",
     "text": [
      "The accuracy predictor is ready!\n",
      "Sequential(\n",
      "  (0): Linear(in_features=128, out_features=400, bias=True)\n",
      "  (1): ReLU()\n",
      "  (2): Linear(in_features=400, out_features=400, bias=True)\n",
      "  (3): ReLU()\n",
      "  (4): Linear(in_features=400, out_features=400, bias=True)\n",
      "  (5): ReLU()\n",
      "  (6): Linear(in_features=400, out_features=1, bias=True)\n",
      ")\n"
     ]
    }
   ],
   "source": [
    "# Accuracy Predictor\n",
    "accuracy_predictor = AccuracyPredictor(\n",
    "    pretrained=True,\n",
    "    device='cuda:0' if cuda_available else 'cpu'\n",
    ")\n",
    "print('The accuracy predictor is ready!')\n",
    "print(accuracy_predictor.model)"
   ]
  },
  {
   "cell_type": "code",
   "execution_count": 5,
   "metadata": {},
   "outputs": [
    {
     "name": "stdout",
     "output_type": "stream",
     "text": [
      "Built latency table for image size: 160.\n",
      "Built latency table for image size: 176.\n",
      "Built latency table for image size: 192.\n",
      "Built latency table for image size: 208.\n",
      "Built latency table for image size: 224.\n",
      "The Latency lookup table on note10 is ready!\n"
     ]
    },
    {
     "name": "stderr",
     "output_type": "stream",
     "text": [
      "/home/arvind/Desktop/Academics/Semester_3/Systems_ML/Project/compofa/tutorial/latency_table.py:23: YAMLLoadWarning: calling yaml.load() without Loader=... is deprecated, as the default Loader is unsafe. Please read https://msg.pyyaml.org/load for full details.\n",
      "  self.lut = yaml.load(fp)\n"
     ]
    }
   ],
   "source": [
    "# Latency Predictor\n",
    "target_hardware = 'note10'\n",
    "latency_table = LatencyTable(device=target_hardware, use_latency_table=True)\n",
    "print('The Latency lookup table on %s is ready!' % target_hardware)"
   ]
  },
  {
   "cell_type": "code",
   "execution_count": 6,
   "metadata": {},
   "outputs": [],
   "source": [
    "\"\"\" Hyper-parameters for the evolutionary search process\n",
    "    You can modify these hyper-parameters to see how they influence the final ImageNet accuracy of the search sub-net.\n",
    "\"\"\"\n",
    "latency_constraint = 25  # ms, suggested range [15, 33] ms\n",
    "P = 100  # The size of population in each generation\n",
    "N = 500  # How many generations of population to be searched\n",
    "r = 0.25  # The ratio of networks that are used as parents for next generation\n",
    "params = {\n",
    "    'constraint_type': target_hardware, # Let's do FLOPs-constrained search\n",
    "    'efficiency_constraint': latency_constraint,\n",
    "    'mutate_prob': 0.1, # The probability of mutation in evolutionary search\n",
    "    'mutation_ratio': 0.5, # The ratio of networks that are generated through mutation in generation n >= 2.\n",
    "    'efficiency_predictor': latency_table, # To use a predefined efficiency predictor.\n",
    "    'accuracy_predictor': accuracy_predictor, # To use a predefined accuracy_predictor predictor.\n",
    "    'population_size': P,\n",
    "    'max_time_budget': N,\n",
    "    'parent_ratio': r,\n",
    "    'arch': 'compofa', ## change\n",
    "}\n",
    "\n",
    "# build the evolution finder\n",
    "finder = EvolutionFinder(**params)"
   ]
  },
  {
   "cell_type": "markdown",
   "metadata": {},
   "source": [
    "## Dataset Creation"
   ]
  },
  {
   "cell_type": "markdown",
   "metadata": {},
   "source": [
    "Create dataset:"
   ]
  },
  {
   "cell_type": "code",
   "execution_count": 7,
   "metadata": {},
   "outputs": [
    {
     "name": "stdout",
     "output_type": "stream",
     "text": [
      "completed 0/10 samples\n",
      "completed 1/10 samples\n",
      "completed 2/10 samples\n",
      "completed 3/10 samples\n",
      "completed 4/10 samples\n",
      "completed 5/10 samples\n",
      "completed 6/10 samples\n",
      "completed 7/10 samples\n",
      "completed 8/10 samples\n",
      "completed 9/10 samples\n",
      "Wrote Latency Dataset to File: latency_predictor/datasets/note10_lookuptable_fixedkernelcompofa_test.csv\n",
      "Time to Create Dataset of 10 points: 0.005857229232788086\n"
     ]
    }
   ],
   "source": [
    "# time to create dataset\n",
    "start = time.time()\n",
    "\n",
    "# create latency dataset\n",
    "number_of_datapoints = 10\n",
    "latency_dataset = finder.create_latency_dataset(search_space='compofa', num_of_samples=number_of_datapoints)\n",
    "\n",
    "# create dataset csv file\n",
    "curr_hardware = 'note10_lookuptable' #'note10_lookuptable' #'Intel_Xeon_CPU' #RTX_2080_Ti_GPU'\n",
    "filename = 'latency_predictor/datasets/' + curr_hardware + '_fixedkernelcompofa_test.csv'\n",
    "with open(filename, 'w') as csv_file:\n",
    "    w = csv.writer(csv_file)\n",
    "    w.writerow(['child_arch', 'latency'])\n",
    "    for i in range(len(latency_dataset['child_arch'])):\n",
    "        child_arch = latency_dataset['child_arch'][i]\n",
    "        latency = latency_dataset['latency'][i]\n",
    "        w.writerow([child_arch, latency])\n",
    "\n",
    "end = time.time()\n",
    "\n",
    "print('Wrote Latency Dataset to File: {}'.format(filename))\n",
    "print('Time to Create Dataset of {} points: {}'.format(number_of_datapoints, end-start))"
   ]
  },
  {
   "cell_type": "code",
   "execution_count": 8,
   "metadata": {},
   "outputs": [
    {
     "data": {
      "text/html": [
       "<div>\n",
       "<style scoped>\n",
       "    .dataframe tbody tr th:only-of-type {\n",
       "        vertical-align: middle;\n",
       "    }\n",
       "\n",
       "    .dataframe tbody tr th {\n",
       "        vertical-align: top;\n",
       "    }\n",
       "\n",
       "    .dataframe thead th {\n",
       "        text-align: right;\n",
       "    }\n",
       "</style>\n",
       "<table border=\"1\" class=\"dataframe\">\n",
       "  <thead>\n",
       "    <tr style=\"text-align: right;\">\n",
       "      <th></th>\n",
       "      <th>child_arch</th>\n",
       "      <th>latency</th>\n",
       "    </tr>\n",
       "  </thead>\n",
       "  <tbody>\n",
       "    <tr>\n",
       "      <th>0</th>\n",
       "      <td>{'wid': None, 'ks': [3, 3, 3, 3, 5, 5, 5, 5, 3...</td>\n",
       "      <td>33.500156</td>\n",
       "    </tr>\n",
       "    <tr>\n",
       "      <th>1</th>\n",
       "      <td>{'wid': None, 'ks': [3, 3, 3, 3, 5, 5, 5, 5, 3...</td>\n",
       "      <td>27.470840</td>\n",
       "    </tr>\n",
       "    <tr>\n",
       "      <th>2</th>\n",
       "      <td>{'wid': None, 'ks': [3, 3, 3, 3, 5, 5, 5, 5, 3...</td>\n",
       "      <td>17.191669</td>\n",
       "    </tr>\n",
       "    <tr>\n",
       "      <th>3</th>\n",
       "      <td>{'wid': None, 'ks': [3, 3, 3, 3, 5, 5, 5, 5, 3...</td>\n",
       "      <td>32.166314</td>\n",
       "    </tr>\n",
       "    <tr>\n",
       "      <th>4</th>\n",
       "      <td>{'wid': None, 'ks': [3, 3, 3, 3, 5, 5, 5, 5, 3...</td>\n",
       "      <td>32.270490</td>\n",
       "    </tr>\n",
       "    <tr>\n",
       "      <th>5</th>\n",
       "      <td>{'wid': None, 'ks': [3, 3, 3, 3, 5, 5, 5, 5, 3...</td>\n",
       "      <td>49.564905</td>\n",
       "    </tr>\n",
       "    <tr>\n",
       "      <th>6</th>\n",
       "      <td>{'wid': None, 'ks': [3, 3, 3, 3, 5, 5, 5, 5, 3...</td>\n",
       "      <td>39.275898</td>\n",
       "    </tr>\n",
       "    <tr>\n",
       "      <th>7</th>\n",
       "      <td>{'wid': None, 'ks': [3, 3, 3, 3, 5, 5, 5, 5, 3...</td>\n",
       "      <td>18.289627</td>\n",
       "    </tr>\n",
       "    <tr>\n",
       "      <th>8</th>\n",
       "      <td>{'wid': None, 'ks': [3, 3, 3, 3, 5, 5, 5, 5, 3...</td>\n",
       "      <td>42.643404</td>\n",
       "    </tr>\n",
       "    <tr>\n",
       "      <th>9</th>\n",
       "      <td>{'wid': None, 'ks': [3, 3, 3, 3, 5, 5, 5, 5, 3...</td>\n",
       "      <td>24.113853</td>\n",
       "    </tr>\n",
       "  </tbody>\n",
       "</table>\n",
       "</div>"
      ],
      "text/plain": [
       "                                          child_arch    latency\n",
       "0  {'wid': None, 'ks': [3, 3, 3, 3, 5, 5, 5, 5, 3...  33.500156\n",
       "1  {'wid': None, 'ks': [3, 3, 3, 3, 5, 5, 5, 5, 3...  27.470840\n",
       "2  {'wid': None, 'ks': [3, 3, 3, 3, 5, 5, 5, 5, 3...  17.191669\n",
       "3  {'wid': None, 'ks': [3, 3, 3, 3, 5, 5, 5, 5, 3...  32.166314\n",
       "4  {'wid': None, 'ks': [3, 3, 3, 3, 5, 5, 5, 5, 3...  32.270490\n",
       "5  {'wid': None, 'ks': [3, 3, 3, 3, 5, 5, 5, 5, 3...  49.564905\n",
       "6  {'wid': None, 'ks': [3, 3, 3, 3, 5, 5, 5, 5, 3...  39.275898\n",
       "7  {'wid': None, 'ks': [3, 3, 3, 3, 5, 5, 5, 5, 3...  18.289627\n",
       "8  {'wid': None, 'ks': [3, 3, 3, 3, 5, 5, 5, 5, 3...  42.643404\n",
       "9  {'wid': None, 'ks': [3, 3, 3, 3, 5, 5, 5, 5, 3...  24.113853"
      ]
     },
     "execution_count": 8,
     "metadata": {},
     "output_type": "execute_result"
    }
   ],
   "source": [
    "df = pd.read_csv('latency_predictor/datasets/note10_lookuptable_fixedkernelcompofa_test.csv', usecols=[\"child_arch\", \"latency\"])\n",
    "df"
   ]
  },
  {
   "cell_type": "markdown",
   "metadata": {},
   "source": [
    "## Latency Prediction Model "
   ]
  },
  {
   "cell_type": "markdown",
   "metadata": {},
   "source": [
    "<img src=\"latency_predictor/Latency_predictor_model.png\" width=400 height=400 />"
   ]
  },
  {
   "cell_type": "code",
   "execution_count": 9,
   "metadata": {
    "scrolled": true
   },
   "outputs": [
    {
     "name": "stdout",
     "output_type": "stream",
     "text": [
      "LatencyPredictor device: cpu\n"
     ]
    }
   ],
   "source": [
    "if '/latency_predictor' not in os.getcwd():\n",
    "    os.chdir('./latency_predictor')\n",
    "    \n",
    "from latency_predictor import LatencyPredictor, RMSELoss, data_preprocessing, dataset_creation"
   ]
  },
  {
   "cell_type": "markdown",
   "metadata": {},
   "source": [
    "### Evaluate Note10 OFA Model"
   ]
  },
  {
   "cell_type": "code",
   "execution_count": 10,
   "metadata": {},
   "outputs": [],
   "source": [
    "from latency_encoding import latency_encoding"
   ]
  },
  {
   "cell_type": "code",
   "execution_count": 11,
   "metadata": {},
   "outputs": [],
   "source": [
    "note10_checkpt = torch.load('../checkpoints/latency_prediction_model/Individual_trained_models/ofa/checkpoint_note10_ofa.pt')\n",
    "note10_model = LatencyPredictor()\n",
    "note10_model.load_state_dict(note10_checkpt)\n",
    "criterion = RMSELoss()\n",
    "#print(note10_model.model)"
   ]
  },
  {
   "cell_type": "markdown",
   "metadata": {},
   "source": [
    "Load Note10 Dataset"
   ]
  },
  {
   "cell_type": "code",
   "execution_count": 12,
   "metadata": {},
   "outputs": [],
   "source": [
    "dataset_path = 'datasets/Note10_LookupTable/note10_lookuptable_ofa.csv'#note10_lookuptable_elastickernelcompofa.csv'\n",
    "df = pd.read_csv(dataset_path, usecols=[\"child_arch\", \"latency\"])"
   ]
  },
  {
   "cell_type": "markdown",
   "metadata": {},
   "source": [
    "Lets look at the data"
   ]
  },
  {
   "cell_type": "code",
   "execution_count": 13,
   "metadata": {},
   "outputs": [
    {
     "data": {
      "text/html": [
       "<div>\n",
       "<style scoped>\n",
       "    .dataframe tbody tr th:only-of-type {\n",
       "        vertical-align: middle;\n",
       "    }\n",
       "\n",
       "    .dataframe tbody tr th {\n",
       "        vertical-align: top;\n",
       "    }\n",
       "\n",
       "    .dataframe thead th {\n",
       "        text-align: right;\n",
       "    }\n",
       "</style>\n",
       "<table border=\"1\" class=\"dataframe\">\n",
       "  <thead>\n",
       "    <tr style=\"text-align: right;\">\n",
       "      <th></th>\n",
       "      <th>child_arch</th>\n",
       "      <th>latency</th>\n",
       "    </tr>\n",
       "  </thead>\n",
       "  <tbody>\n",
       "    <tr>\n",
       "      <th>0</th>\n",
       "      <td>{'wid': None, 'ks': [7, 7, 3, 3, 5, 7, 3, 7, 3...</td>\n",
       "      <td>39.888340</td>\n",
       "    </tr>\n",
       "    <tr>\n",
       "      <th>1</th>\n",
       "      <td>{'wid': None, 'ks': [7, 5, 5, 5, 3, 5, 3, 5, 3...</td>\n",
       "      <td>34.926996</td>\n",
       "    </tr>\n",
       "    <tr>\n",
       "      <th>2</th>\n",
       "      <td>{'wid': None, 'ks': [5, 3, 7, 7, 7, 7, 7, 7, 5...</td>\n",
       "      <td>37.957898</td>\n",
       "    </tr>\n",
       "    <tr>\n",
       "      <th>3</th>\n",
       "      <td>{'wid': None, 'ks': [7, 3, 7, 7, 3, 3, 7, 3, 3...</td>\n",
       "      <td>33.644811</td>\n",
       "    </tr>\n",
       "    <tr>\n",
       "      <th>4</th>\n",
       "      <td>{'wid': None, 'ks': [7, 5, 5, 7, 5, 5, 3, 7, 3...</td>\n",
       "      <td>23.442201</td>\n",
       "    </tr>\n",
       "  </tbody>\n",
       "</table>\n",
       "</div>"
      ],
      "text/plain": [
       "                                          child_arch    latency\n",
       "0  {'wid': None, 'ks': [7, 7, 3, 3, 5, 7, 3, 7, 3...  39.888340\n",
       "1  {'wid': None, 'ks': [7, 5, 5, 5, 3, 5, 3, 5, 3...  34.926996\n",
       "2  {'wid': None, 'ks': [5, 3, 7, 7, 7, 7, 7, 7, 5...  37.957898\n",
       "3  {'wid': None, 'ks': [7, 3, 7, 7, 3, 3, 7, 3, 3...  33.644811\n",
       "4  {'wid': None, 'ks': [7, 5, 5, 7, 5, 5, 3, 7, 3...  23.442201"
      ]
     },
     "execution_count": 13,
     "metadata": {},
     "output_type": "execute_result"
    }
   ],
   "source": [
    "df.head()"
   ]
  },
  {
   "cell_type": "code",
   "execution_count": 14,
   "metadata": {},
   "outputs": [
    {
     "data": {
      "text/plain": [
       "\"{'wid': None, 'ks': [7, 7, 3, 3, 5, 7, 3, 7, 3, 7, 3, 7, 5, 7, 7, 5, 5, 5, 7, 5], 'e': [6, 3, 4, 4, 3, 6, 4, 6, 6, 3, 4, 6, 6, 3, 3, 4, 6, 4, 6, 6], 'd': [2, 4, 2, 3, 3], 'r': [208]}\""
      ]
     },
     "execution_count": 14,
     "metadata": {},
     "output_type": "execute_result"
    }
   ],
   "source": [
    "df.iloc[0]['child_arch']"
   ]
  },
  {
   "cell_type": "code",
   "execution_count": 15,
   "metadata": {},
   "outputs": [
    {
     "name": "stdout",
     "output_type": "stream",
     "text": [
      "One hot encoding of the child architecture:\n"
     ]
    },
    {
     "data": {
      "text/plain": [
       "tensor([[0., 0., 1., 0., 0., 1., 0., 0., 0., 0., 0., 0., 0., 1., 0., 0., 0., 1.,\n",
       "         1., 0., 0., 0., 0., 1., 1., 0., 0., 0., 0., 1., 0., 0., 0., 0., 0., 0.,\n",
       "         0., 1., 0., 0., 0., 1., 0., 0., 1., 0., 0., 0., 0., 1., 0., 0., 1., 0.,\n",
       "         0., 0., 1., 0., 0., 0., 0., 0., 1., 1., 0., 0., 0., 0., 0., 0., 0., 0.,\n",
       "         1., 0., 0., 0., 0., 1., 0., 1., 0., 0., 0., 1., 0., 0., 1., 1., 0., 0.,\n",
       "         0., 0., 0., 0., 0., 0., 0., 0., 1., 1., 0., 0., 1., 0., 0., 0., 0., 0.,\n",
       "         0., 0., 1., 0., 1., 0., 0., 0., 1., 0., 0., 0., 0., 0., 0., 0., 0., 0.,\n",
       "         1., 0.]])"
      ]
     },
     "execution_count": 15,
     "metadata": {},
     "output_type": "execute_result"
    }
   ],
   "source": [
    "print(\"One hot encoding of the child architecture:\")\n",
    "latency_encoding(eval(df.iloc[0]['child_arch']))"
   ]
  },
  {
   "cell_type": "code",
   "execution_count": 16,
   "metadata": {},
   "outputs": [
    {
     "name": "stdout",
     "output_type": "stream",
     "text": [
      "Latency based on Look up Table: 39.888340486176574 ms\n"
     ]
    }
   ],
   "source": [
    "print(\"Latency based on Look up Table:\", df.iloc[0]['latency'], \"ms\")"
   ]
  },
  {
   "cell_type": "code",
   "execution_count": 17,
   "metadata": {
    "scrolled": true
   },
   "outputs": [
    {
     "name": "stdout",
     "output_type": "stream",
     "text": [
      "Latency based on Latency predictor: 40.03688430786133 ms\n"
     ]
    }
   ],
   "source": [
    "print(\"Latency based on Latency predictor:\",note10_model.predict_efficiency(eval(df.iloc[0]['child_arch'])), \"ms\")"
   ]
  },
  {
   "cell_type": "code",
   "execution_count": 18,
   "metadata": {},
   "outputs": [],
   "source": [
    "training_data, validation_data, test_data = data_preprocessing(dataset_path, 5000)\n",
    "#test_data.head()"
   ]
  },
  {
   "cell_type": "markdown",
   "metadata": {},
   "source": [
    "Vectoring child architecture via one hot encoding:"
   ]
  },
  {
   "cell_type": "code",
   "execution_count": 19,
   "metadata": {},
   "outputs": [
    {
     "name": "stdout",
     "output_type": "stream",
     "text": [
      "size of the test data set: 1500\n"
     ]
    }
   ],
   "source": [
    "train_loader, validation_loader, test_dataset = dataset_creation(training_data, validation_data, test_data)\n",
    "print(\"size of the test data set:\", len(test_dataset))"
   ]
  },
  {
   "cell_type": "code",
   "execution_count": 20,
   "metadata": {},
   "outputs": [
    {
     "name": "stdout",
     "output_type": "stream",
     "text": [
      "RMSE Loss over test data set: tensor(0.3525) ms\n"
     ]
    }
   ],
   "source": [
    "test_loss = []\n",
    "for input_arch, target in test_dataset:\n",
    "    prediction = note10_model(input_arch)[0][0]\n",
    "    loss = criterion(prediction, target)\n",
    "    test_loss.append(loss)\n",
    "\n",
    "print(\"RMSE Loss over test data set:\", torch.mean(torch.tensor(test_loss)), \"ms\")"
   ]
  },
  {
   "cell_type": "markdown",
   "metadata": {},
   "source": [
    "### Evaluate RTX_2080_Ti_GPU OFA Model"
   ]
  },
  {
   "cell_type": "code",
   "execution_count": 21,
   "metadata": {},
   "outputs": [],
   "source": [
    "RTX_checkpt = torch.load('../checkpoints/latency_prediction_model/Individual_trained_models/ofa/checkpoint_RTX_2080_Ti_GPU_ofa.pt')\n",
    "RTX_model = LatencyPredictor()\n",
    "RTX_model.load_state_dict(RTX_checkpt)\n",
    "criterion = RMSELoss()\n",
    "#print(RTX_model.model)"
   ]
  },
  {
   "cell_type": "markdown",
   "metadata": {},
   "source": [
    "Load RTX Dataset"
   ]
  },
  {
   "cell_type": "code",
   "execution_count": 22,
   "metadata": {},
   "outputs": [],
   "source": [
    "dataset_path = 'datasets/RTX_2080_Ti_GPU/RTX_2080_Ti_GPU_ofa.csv'\n",
    "df_RTX = pd.read_csv(dataset_path, usecols=[\"child_arch\", \"latency\"])\n",
    "#df_RTX.head()"
   ]
  },
  {
   "cell_type": "code",
   "execution_count": 23,
   "metadata": {},
   "outputs": [
    {
     "data": {
      "text/plain": [
       "\"{'wid': None, 'ks': [7, 7, 3, 3, 5, 7, 3, 7, 3, 7, 3, 7, 5, 7, 7, 5, 5, 5, 7, 5], 'e': [6, 3, 4, 4, 3, 6, 4, 6, 6, 3, 4, 6, 6, 3, 3, 4, 6, 4, 6, 6], 'd': [2, 4, 2, 3, 3], 'r': [208]}\""
      ]
     },
     "execution_count": 23,
     "metadata": {},
     "output_type": "execute_result"
    }
   ],
   "source": [
    "df_RTX.iloc[0]['child_arch']"
   ]
  },
  {
   "cell_type": "code",
   "execution_count": 24,
   "metadata": {},
   "outputs": [
    {
     "name": "stdout",
     "output_type": "stream",
     "text": [
      "Latency from look up table: 20.59500217437744 ms\n"
     ]
    }
   ],
   "source": [
    "sample_child_arch = eval(df_RTX.iloc[0]['child_arch'])\n",
    "sample_latency = df_RTX.iloc[0]['latency']\n",
    "print(\"Latency from look up table:\", sample_latency, \"ms\")"
   ]
  },
  {
   "cell_type": "code",
   "execution_count": 25,
   "metadata": {},
   "outputs": [
    {
     "name": "stdout",
     "output_type": "stream",
     "text": [
      "Latency from latency predictor:  20.724504470825195 ms\n"
     ]
    }
   ],
   "source": [
    "print(\"Latency from latency predictor: \", RTX_model.predict_efficiency(sample_child_arch), \"ms\")"
   ]
  },
  {
   "cell_type": "code",
   "execution_count": 26,
   "metadata": {},
   "outputs": [],
   "source": [
    "training_data, validation_data, test_data = data_preprocessing(dataset_path, 5000)\n",
    "train_loader, validation_loader, test_dataset = dataset_creation(training_data, validation_data, test_data)\n",
    "#len(test_dataset)"
   ]
  },
  {
   "cell_type": "code",
   "execution_count": 27,
   "metadata": {},
   "outputs": [
    {
     "name": "stdout",
     "output_type": "stream",
     "text": [
      "RMSE loss over test dataset:  tensor(0.3859) ms\n"
     ]
    }
   ],
   "source": [
    "test_loss = []\n",
    "for input_arch, target in test_dataset:\n",
    "    prediction = RTX_model(input_arch)[0][0]\n",
    "    loss = criterion(prediction, target)\n",
    "    test_loss.append(loss)\n",
    "\n",
    "print(\"RMSE loss over test dataset: \", torch.mean(torch.tensor(test_loss)), \"ms\")"
   ]
  },
  {
   "cell_type": "markdown",
   "metadata": {},
   "source": [
    "### Evaluate Finetuned RTX_2080_Ti_GPU Model using Note10 Base"
   ]
  },
  {
   "cell_type": "code",
   "execution_count": 28,
   "metadata": {},
   "outputs": [],
   "source": [
    "RTX_checkpt = torch.load('../checkpoints/latency_prediction_model/Finetune_Note_10/checkpoint_finetune_RTX_2080_Ti_GPU_ofa.pt')\n",
    "\n",
    "finetune=True\n",
    "if finetune:\n",
    "    key_names = [\"model.0.weight\", \"model.0.bias\", \"model.2.weight\", \"model.2.bias\", \"model.4.weight\", \"model.4.bias\", \"model.6.weight\", \"model.6.bias\"]\n",
    "    new_state_dict = OrderedDict()\n",
    "    i = 0\n",
    "    for k, v in RTX_checkpt.items():\n",
    "        new_state_dict[key_names[i]] = v\n",
    "        i = i + 1\n",
    "    RTX_checkpt = new_state_dict\n",
    "\n",
    "RTX_model = LatencyPredictor()\n",
    "RTX_model.load_state_dict(RTX_checkpt)\n",
    "criterion = RMSELoss()"
   ]
  },
  {
   "cell_type": "code",
   "execution_count": 29,
   "metadata": {},
   "outputs": [],
   "source": [
    "dataset_path = 'datasets/RTX_2080_Ti_GPU/RTX_2080_Ti_GPU_ofa.csv'\n",
    "df_RTX = pd.read_csv(dataset_path, usecols=[\"child_arch\", \"latency\"])\n",
    "#df_RTX.head()"
   ]
  },
  {
   "cell_type": "code",
   "execution_count": 30,
   "metadata": {},
   "outputs": [
    {
     "name": "stdout",
     "output_type": "stream",
     "text": [
      "{'wid': None, 'ks': [7, 7, 3, 3, 5, 7, 3, 7, 3, 7, 3, 7, 5, 7, 7, 5, 5, 5, 7, 5], 'e': [6, 3, 4, 4, 3, 6, 4, 6, 6, 3, 4, 6, 6, 3, 3, 4, 6, 4, 6, 6], 'd': [2, 4, 2, 3, 3], 'r': [208]}\n"
     ]
    }
   ],
   "source": [
    "print(df_RTX.iloc[0]['child_arch'])"
   ]
  },
  {
   "cell_type": "code",
   "execution_count": 31,
   "metadata": {},
   "outputs": [
    {
     "name": "stdout",
     "output_type": "stream",
     "text": [
      "Latency based on look up table 20.59500217437744 ms\n"
     ]
    }
   ],
   "source": [
    "sample_child_arch = eval(df_RTX.iloc[0]['child_arch'])\n",
    "sample_latency = df_RTX.iloc[0]['latency']\n",
    "print(\"Latency based on look up table\", sample_latency, \"ms\")"
   ]
  },
  {
   "cell_type": "code",
   "execution_count": 32,
   "metadata": {},
   "outputs": [
    {
     "name": "stdout",
     "output_type": "stream",
     "text": [
      "Latency based on fine-tuned latency predictor: 22.062299728393555 ms\n"
     ]
    }
   ],
   "source": [
    "print(\"Latency based on fine-tuned latency predictor:\", RTX_model.predict_efficiency(sample_child_arch), \"ms\")"
   ]
  },
  {
   "cell_type": "code",
   "execution_count": 33,
   "metadata": {},
   "outputs": [],
   "source": [
    "training_data, validation_data, test_data = data_preprocessing(dataset_path, 5000)\n",
    "train_loader, validation_loader, test_dataset = dataset_creation(training_data, validation_data, test_data)\n",
    "#len(test_dataset)"
   ]
  },
  {
   "cell_type": "code",
   "execution_count": 34,
   "metadata": {},
   "outputs": [
    {
     "name": "stdout",
     "output_type": "stream",
     "text": [
      "RMSE loss over test dataset: tensor(0.7128) ms\n"
     ]
    }
   ],
   "source": [
    "test_loss = []\n",
    "for input_arch, target in test_dataset:\n",
    "    prediction = RTX_model(input_arch)[0][0]\n",
    "    loss = criterion(prediction, target)\n",
    "    test_loss.append(loss)\n",
    "\n",
    "print(\"RMSE loss over test dataset:\", torch.mean(torch.tensor(test_loss)), \"ms\")"
   ]
  },
  {
   "cell_type": "markdown",
   "metadata": {},
   "source": [
    "# Inference Time Analysis"
   ]
  },
  {
   "cell_type": "code",
   "execution_count": 35,
   "metadata": {},
   "outputs": [],
   "source": [
    "from latency_encoding import latency_encoding"
   ]
  },
  {
   "cell_type": "code",
   "execution_count": 36,
   "metadata": {},
   "outputs": [
    {
     "name": "stdout",
     "output_type": "stream",
     "text": [
      "Child_Arch: {'wid': None, 'ks': [7, 7, 3, 3, 5, 7, 3, 7, 3, 7, 3, 7, 5, 7, 7, 5, 5, 5, 7, 5], 'e': [6, 3, 4, 4, 3, 6, 4, 6, 6, 3, 4, 6, 6, 3, 3, 4, 6, 4, 6, 6], 'd': [2, 4, 2, 3, 3], 'r': [208]}, \n",
      "\n",
      "Latency: 39.888340486176574\n"
     ]
    }
   ],
   "source": [
    "sample_child_arch = eval(df.iloc[0]['child_arch'])\n",
    "sample_latency = df.iloc[0]['latency']\n",
    "print('Child_Arch: {}, \\n\\nLatency: {}'.format(sample_child_arch, sample_latency))"
   ]
  },
  {
   "cell_type": "code",
   "execution_count": 37,
   "metadata": {},
   "outputs": [
    {
     "data": {
      "text/plain": [
       "tensor([[0., 0., 1., 0., 0., 1., 0., 0., 0., 0., 0., 0., 0., 1., 0., 0., 0., 1.,\n",
       "         1., 0., 0., 0., 0., 1., 1., 0., 0., 0., 0., 1., 0., 0., 0., 0., 0., 0.,\n",
       "         0., 1., 0., 0., 0., 1., 0., 0., 1., 0., 0., 0., 0., 1., 0., 0., 1., 0.,\n",
       "         0., 0., 1., 0., 0., 0., 0., 0., 1., 1., 0., 0., 0., 0., 0., 0., 0., 0.,\n",
       "         1., 0., 0., 0., 0., 1., 0., 1., 0., 0., 0., 1., 0., 0., 1., 1., 0., 0.,\n",
       "         0., 0., 0., 0., 0., 0., 0., 0., 1., 1., 0., 0., 1., 0., 0., 0., 0., 0.,\n",
       "         0., 0., 1., 0., 1., 0., 0., 0., 1., 0., 0., 0., 0., 0., 0., 0., 0., 0.,\n",
       "         1., 0.]])"
      ]
     },
     "execution_count": 37,
     "metadata": {},
     "output_type": "execute_result"
    }
   ],
   "source": [
    "sample_child_arch_encoded = latency_encoding(sample_child_arch)\n",
    "sample_child_arch_encoded"
   ]
  },
  {
   "cell_type": "markdown",
   "metadata": {},
   "source": [
    "Estimation Time using Latency Prediction Model:"
   ]
  },
  {
   "cell_type": "markdown",
   "metadata": {},
   "source": [
    "With encoding and memoization:"
   ]
  },
  {
   "cell_type": "code",
   "execution_count": 38,
   "metadata": {},
   "outputs": [
    {
     "name": "stdout",
     "output_type": "stream",
     "text": [
      "1.0251998901367188e-05\n"
     ]
    }
   ],
   "source": [
    "times = []\n",
    "for i in range(1):\n",
    "    start = time.time()\n",
    "\n",
    "    prediction = RTX_model.predict_efficiency(sample_child_arch)\n",
    "\n",
    "    end = time.time()\n",
    "\n",
    "    model_time = end - start\n",
    "    times.append(model_time)\n",
    "    #print(model_time)\n",
    "print(sum(times)/len(times))"
   ]
  },
  {
   "cell_type": "markdown",
   "metadata": {},
   "source": [
    "Estimation Time using Note10 Lookup Table (Previous Method):"
   ]
  },
  {
   "cell_type": "code",
   "execution_count": 39,
   "metadata": {},
   "outputs": [
    {
     "name": "stdout",
     "output_type": "stream",
     "text": [
      "9.799003601074219e-05\n"
     ]
    }
   ],
   "source": [
    "times = []\n",
    "for i in range(1):\n",
    "    start = time.time()\n",
    "\n",
    "    prediction = finder.efficiency_predictor.predict_efficiency(sample_child_arch)\n",
    "\n",
    "    end = time.time()\n",
    "    lookup_time = end - start\n",
    "    times.append(lookup_time)\n",
    "print(sum(times)/len(times))"
   ]
  },
  {
   "cell_type": "markdown",
   "metadata": {},
   "source": [
    "# Neural Architecture Search"
   ]
  },
  {
   "cell_type": "markdown",
   "metadata": {},
   "source": [
    "Using Note10 Lookup Table as the Performance Estimation "
   ]
  },
  {
   "cell_type": "code",
   "execution_count": 40,
   "metadata": {},
   "outputs": [],
   "source": [
    "\"\"\" Hyper-parameters for the evolutionary search process\n",
    "    You can modify these hyper-parameters to see how they influence the final ImageNet accuracy of the search sub-net.\n",
    "\"\"\"\n",
    "latency_constraint = 25  # ms, suggested range [15, 33] ms\n",
    "P = 100  # The size of population in each generation\n",
    "N = 500  # How many generations of population to be searched\n",
    "r = 0.25  # The ratio of networks that are used as parents for next generation\n",
    "target_hardware = 'note10'\n",
    "params = {\n",
    "    'constraint_type': target_hardware, # Let's do FLOPs-constrained search\n",
    "    'efficiency_constraint': latency_constraint,\n",
    "    'mutate_prob': 0.1, # The probability of mutation in evolutionary search\n",
    "    'mutation_ratio': 0.5, # The ratio of networks that are generated through mutation in generation n >= 2.\n",
    "    'efficiency_predictor': latency_table, # To use a predefined efficiency predictor.\n",
    "    'accuracy_predictor': accuracy_predictor, # To use a predefined accuracy_predictor predictor.\n",
    "    'population_size': P,\n",
    "    'max_time_budget': N,\n",
    "    'parent_ratio': r,\n",
    "    'arch': 'compofa', ## change\n",
    "}\n",
    "\n",
    "# build the evolution finder\n",
    "finder = EvolutionFinder(**params)"
   ]
  },
  {
   "cell_type": "code",
   "execution_count": 41,
   "metadata": {},
   "outputs": [
    {
     "name": "stderr",
     "output_type": "stream",
     "text": [
      "Searching with note10 constraint (20): 100%|██████████| 500/500 [00:15<00:00, 31.32it/s]"
     ]
    },
    {
     "name": "stdout",
     "output_type": "stream",
     "text": [
      "Done! Time Taken: 16.12386918067932 seconds\n"
     ]
    },
    {
     "name": "stderr",
     "output_type": "stream",
     "text": [
      "\n"
     ]
    }
   ],
   "source": [
    "result_lis1 = []\n",
    "latency_constraint = 20\n",
    "st = time.time()\n",
    "finder.set_efficiency_constraint(latency_constraint)\n",
    "best_valids, best_info = finder.run_evolution_search()\n",
    "ed = time.time()\n",
    "result_lis1.append(best_info)\n",
    "print(\"Done! Time Taken: {} seconds\".format(ed-st))"
   ]
  },
  {
   "cell_type": "code",
   "execution_count": 42,
   "metadata": {},
   "outputs": [
    {
     "data": {
      "text/plain": [
       "[(0.7964891195297241,\n",
       "  {'wid': None,\n",
       "   'ks': [3, 3, 3, 3, 5, 5, 5, 5, 3, 3, 3, 3, 3, 3, 3, 3, 5, 5, 5, 5],\n",
       "   'e': [3, 3, 3, 3, 4, 4, 4, 4, 3, 3, 3, 3, 4, 4, 4, 4, 4, 4, 4, 4],\n",
       "   'd': [2, 3, 2, 3, 3],\n",
       "   'r': [192]},\n",
       "  19.88688251867145)]"
      ]
     },
     "execution_count": 42,
     "metadata": {},
     "output_type": "execute_result"
    }
   ],
   "source": [
    "result_lis1"
   ]
  },
  {
   "cell_type": "markdown",
   "metadata": {},
   "source": [
    "Using Latency Prediction Model as the Performance Estimation "
   ]
  },
  {
   "cell_type": "code",
   "execution_count": 43,
   "metadata": {},
   "outputs": [],
   "source": [
    "\"\"\" Hyper-parameters for the evolutionary search process\n",
    "    You can modify these hyper-parameters to see how they influence the final ImageNet accuracy of the search sub-net.\n",
    "\"\"\"\n",
    "latency_constraint = 25  # ms, suggested range [15, 33] ms\n",
    "P = 100  # The size of population in each generation\n",
    "N = 500  # How many generations of population to be searched\n",
    "r = 0.25  # The ratio of networks that are used as parents for next generation\n",
    "target_hardware = 'note10'\n",
    "params = {\n",
    "    'constraint_type': target_hardware, # Let's do FLOPs-constrained search\n",
    "    'efficiency_constraint': latency_constraint,\n",
    "    'mutate_prob': 0.1, # The probability of mutation in evolutionary search\n",
    "    'mutation_ratio': 0.5, # The ratio of networks that are generated through mutation in generation n >= 2.\n",
    "    'efficiency_predictor': note10_model, # To use a predefined efficiency predictor.\n",
    "    'accuracy_predictor': accuracy_predictor, # To use a predefined accuracy_predictor predictor.\n",
    "    'population_size': P,\n",
    "    'max_time_budget': N,\n",
    "    'parent_ratio': r,\n",
    "    'arch': 'compofa', ## change\n",
    "}\n",
    "\n",
    "# build the evolution finder\n",
    "finder = EvolutionFinder(**params)"
   ]
  },
  {
   "cell_type": "code",
   "execution_count": 44,
   "metadata": {},
   "outputs": [
    {
     "name": "stderr",
     "output_type": "stream",
     "text": [
      "Searching with note10 constraint (20): 100%|██████████| 500/500 [00:11<00:00, 43.57it/s]"
     ]
    },
    {
     "name": "stdout",
     "output_type": "stream",
     "text": [
      "Done! Time Taken: 11.676002025604248 seconds\n"
     ]
    },
    {
     "name": "stderr",
     "output_type": "stream",
     "text": [
      "\n"
     ]
    }
   ],
   "source": [
    "result_lis2 = []\n",
    "latency_constraint = 20\n",
    "st = time.time()\n",
    "finder.set_efficiency_constraint(latency_constraint)\n",
    "best_valids, best_info = finder.run_evolution_search()\n",
    "ed = time.time()\n",
    "result_lis2.append(best_info)\n",
    "print(\"Done! Time Taken: {} seconds\".format(ed-st))"
   ]
  },
  {
   "cell_type": "code",
   "execution_count": 45,
   "metadata": {},
   "outputs": [
    {
     "data": {
      "text/plain": [
       "[(0.8171635866165161,\n",
       "  {'wid': None,\n",
       "   'ks': [3, 3, 3, 3, 5, 5, 5, 5, 3, 3, 3, 3, 3, 3, 3, 3, 5, 5, 5, 5],\n",
       "   'e': [3, 3, 3, 3, 4, 4, 4, 4, 4, 4, 4, 4, 6, 6, 6, 6, 4, 4, 4, 4],\n",
       "   'd': [2, 3, 3, 4, 3],\n",
       "   'r': [224]},\n",
       "  18.693700790405273)]"
      ]
     },
     "execution_count": 45,
     "metadata": {},
     "output_type": "execute_result"
    }
   ],
   "source": [
    "result_lis2"
   ]
  },
  {
   "cell_type": "code",
   "execution_count": 46,
   "metadata": {},
   "outputs": [
    {
     "data": {
      "text/plain": [
       "tensor([[0.7965],\n",
       "        [0.8172]])"
      ]
     },
     "execution_count": 46,
     "metadata": {},
     "output_type": "execute_result"
    }
   ],
   "source": [
    "accuracy_predictor.predict_accuracy([result_lis1[0][1], result_lis2[0][1]])"
   ]
  },
  {
   "cell_type": "markdown",
   "metadata": {},
   "source": [
    "### Application in NAS Experiments\n",
    "\n",
    "#### Comparison of pareto frontier of NAS (look up) vs NAS (latency predictor) "
   ]
  },
  {
   "cell_type": "markdown",
   "metadata": {},
   "source": [
    "#### Note10\n",
    "\n",
    "Search Space: Fixed Kernel CompOFA\n",
    "\n",
    "5 constraints: 15, 20, 25, 30, 35\n",
    "\n",
    "Target Hardware: Note10"
   ]
  },
  {
   "cell_type": "markdown",
   "metadata": {},
   "source": [
    "Note10 Lookup Table Results: \n",
    "\n",
    "Top1 Accuracy:\n",
    "[72.80000114440918, 75.20000076293945, 75.70000076293945, 75.80000305175781, 75.9000015258789]\n",
    "\n",
    "Top5 Accuracy:\n",
    "[91.1, 92.1, 93.2, 93.3, 93.5]\n",
    "\n",
    "Latency:\n",
    "[14.69766178609321, 19.88688251867145, 24.83390000854306, 29.512724161788654, 34.79207886302561]\n",
    "\n",
    "Time for NAS: 90.72894263267517"
   ]
  },
  {
   "cell_type": "markdown",
   "metadata": {},
   "source": [
    "Note10_OFA Model Latency Prediction Results:\n",
    "\n",
    "Top1 Accuracy:\n",
    "[73.40000343322754, 76.0, 75.30000305175781, 76.10000038146973, 76.00000190734863]\n",
    "\n",
    "Top5 Accuracy:\n",
    "[91.4, 92.2, 92.8, 93.3, 93.3]\n",
    "\n",
    "Latency:\n",
    "[14.7567, 18.6498, 24.8855, 29.4332, 32.4759]\n",
    "\n",
    "\n",
    "Time for NAS: 175.0260510444641"
   ]
  },
  {
   "cell_type": "markdown",
   "metadata": {},
   "source": [
    "Note10_OFA Model Latency Prediction WITH Memoization Results:\n",
    "\n",
    "Top1 Accuracy:\n",
    "[75.80000114440918, 76.80000114440918, 76.80000305175781, 77.30000114440918, 77.20000267028809]\n",
    "\n",
    "Top5 Accuracy:\n",
    "[92.7, 93.1, 93.8, 94.5, 94.4]\n",
    "\n",
    "Latency:\n",
    "[14.7567, 18.6498, 24.8855, 29.4332, 32.4759]\n",
    "\n",
    "\n",
    "Time for NAS: 59.26314926147461"
   ]
  },
  {
   "cell_type": "code",
   "execution_count": 47,
   "metadata": {},
   "outputs": [],
   "source": [
    "lookup_table_top1 = [72.8, 75.2, 75.7, 75.8, 75.9]\n",
    "lookup_table_top5 = [91.1, 92.1, 93.2, 93.3, 93.5]\n",
    "lookup_table_latency = [14.69, 19.88, 24.83, 29.51, 34.79]\n",
    "\n",
    "model_top1 = [73.4, 76.0, 75.3, 76.1, 76.0]\n",
    "model_top5 = [91.4, 92.2, 92.8, 93.3, 93.3]\n",
    "model_latency = [14.75, 18.64, 24.88, 29.43, 32.47]\n",
    "\n",
    "model_memo_top1 = [75.8, 76.8, 76.8, 77.3, 77.2]\n",
    "model_memo_top5 = [92.7, 93.1, 93.8, 94.5, 94.4]\n",
    "model_memo_latency = [14.75, 18.64, 24.88, 29.43, 32.47]"
   ]
  },
  {
   "cell_type": "code",
   "execution_count": 48,
   "metadata": {},
   "outputs": [
    {
     "data": {
      "image/png": "[encoded data removed]",
      "text/plain": [
       "<Figure size 288x288 with 1 Axes>"
      ]
     },
     "metadata": {
      "needs_background": "light"
     },
     "output_type": "display_data"
    }
   ],
   "source": [
    "plt.figure(figsize=(4,4))\n",
    "plt.plot(lookup_table_latency, lookup_table_top1, 'x-', marker='o', color='red',  linewidth=2, markersize=8, label='Lookup_Table')\n",
    "plt.plot(model_memo_latency, model_memo_top1, 'x-', marker='*', color='darkred',  linewidth=2, markersize=8, label='Model_Memo')\n",
    "plt.plot(model_latency, model_top1, '--', marker='+', linewidth=2, markersize=8, label='Model')\n",
    "plt.xlabel('%s Latency (ms)' % target_hardware, size=12)\n",
    "plt.ylabel('ImageNet Top-1 Accuracy (%)', size=12)\n",
    "plt.legend(loc='lower right')\n",
    "plt.grid(True)\n",
    "plt.show()"
   ]
  },
  {
   "cell_type": "code",
   "execution_count": 49,
   "metadata": {},
   "outputs": [
    {
     "data": {
      "image/png": "[encoded data removed]",
      "text/plain": [
       "<Figure size 288x288 with 1 Axes>"
      ]
     },
     "metadata": {
      "needs_background": "light"
     },
     "output_type": "display_data"
    }
   ],
   "source": [
    "plt.figure(figsize=(4,4))\n",
    "plt.plot(lookup_table_latency, lookup_table_top5, 'x-', marker='o', color='red',  linewidth=2, markersize=8, label='Lookup_Table')\n",
    "plt.plot(model_memo_latency, model_memo_top5, 'x-', marker='*', color='darkred',  linewidth=2, markersize=8, label='Model_Memo')\n",
    "plt.plot(model_latency, model_top5, '--', marker='+', linewidth=2, markersize=8, label='Model')\n",
    "plt.xlabel('%s Latency (ms)' % target_hardware, size=12)\n",
    "plt.ylabel('ImageNet Top-5 Accuracy (%)', size=12)\n",
    "plt.legend(loc='lower right')\n",
    "plt.grid(True)\n",
    "plt.show()"
   ]
  },
  {
   "cell_type": "markdown",
   "metadata": {},
   "source": [
    "#### Note10\n",
    "\n",
    "Search Space: Elastic Kernel CompOFA\n",
    "\n",
    "5 constraints: 15, 20, 25, 30, 35\n",
    "\n",
    "Target Hardware: Note10"
   ]
  },
  {
   "cell_type": "markdown",
   "metadata": {},
   "source": [
    "Note10 Lookup Table Results: \n",
    "\n",
    "Top1 Accuracy:\n",
    "[73.30000305175781, 75.80000114440918, 75.70000267028809, 76.30000305175781, 76.4000015258789]\n",
    "\n",
    "Top5 Accuracy:\n",
    "[90.2, 91.9, 93.0, 93.2, 93.8]\n",
    "\n",
    "Latency:\n",
    "[14.883577352241502, 19.9517505771064, 24.523907686903634, 29.628799671866894, 34.987063535187986]\n",
    "\n",
    "Time for NAS: 105.40677523612976"
   ]
  },
  {
   "cell_type": "markdown",
   "metadata": {},
   "source": [
    "Note10_OFA Model Latency Prediction Results:\n",
    "\n",
    "Top1 Accuracy:\n",
    "[73.4000015258789, 75.80000114440918, 75.30000114440918, 77.70000076293945, 76.60000228881836]\n",
    "\n",
    "Top5 Accuracy:\n",
    "[91.3, 92.6, 93.3, 93.4, 93.7]\n",
    "\n",
    "Latency:\n",
    "[14.845640182495117, 19.97205352783203, 24.33823585510254, 29.964521408081055, 34.266754150390625]\n",
    "\n",
    "\n",
    "Time for NAS: 223.74719524383545"
   ]
  },
  {
   "cell_type": "markdown",
   "metadata": {},
   "source": [
    "Note10_OFA Model Latency Prediction WITH Memoization Results:\n",
    "\n",
    "Top1 Accuracy:\n",
    "[76.00000190734863, 76.40000343322754, 76.80000114440918, 77.4000015258789, 77.30000305175781]\n",
    "\n",
    "Top5 Accuracy:\n",
    "[92.7, 93.6, 94.3, 94.9, 94.6]\n",
    "\n",
    "Latency:\n",
    "[14.730718612670898, 19.913232803344727, 23.94869613647461, 29.688018798828125, 31.26772689819336]\n",
    "\n",
    "\n",
    "Time for NAS: 173.9402687549591"
   ]
  },
  {
   "cell_type": "code",
   "execution_count": 50,
   "metadata": {},
   "outputs": [],
   "source": [
    "lookup_table_top1 = [73.3, 75.8, 75.7, 76.3, 76.4]\n",
    "lookup_table_top5 = [90.2, 91.9, 93.0, 93.2, 93.8]\n",
    "lookup_table_latency = [14.88, 19.95, 24.52, 29.62, 34.98]\n",
    "\n",
    "model_top1 = [73.4, 75.8, 75.3, 77.7, 76.6]\n",
    "model_top5 = [91.3, 92.6, 93.3, 93.4, 93.7]\n",
    "model_latency = [14.84, 19.97, 24.33, 29.96, 34.26]\n",
    "\n",
    "model_memo_top1 = [76.0, 76.4, 76.8, 77.4, 77.3]\n",
    "model_memo_top5 = [92.7, 93.6, 94.3, 94.9, 94.6]\n",
    "model_memo_latency = [14.73, 19.91, 23.94, 29.68, 31.26]"
   ]
  },
  {
   "cell_type": "code",
   "execution_count": 51,
   "metadata": {},
   "outputs": [
    {
     "data": {
      "image/png": "[encoded data removed]",
      "text/plain": [
       "<Figure size 288x288 with 1 Axes>"
      ]
     },
     "metadata": {
      "needs_background": "light"
     },
     "output_type": "display_data"
    }
   ],
   "source": [
    "plt.figure(figsize=(4,4))\n",
    "plt.plot(lookup_table_latency, lookup_table_top1, 'x-', marker='o', color='red',  linewidth=2, markersize=8, label='Lookup_Table')\n",
    "plt.plot(model_memo_latency, model_memo_top1, 'x-', marker='*', color='darkred',  linewidth=2, markersize=8, label='Model_Memo')\n",
    "plt.plot(model_latency, model_top1, '--', marker='+', linewidth=2, markersize=8, label='Model')\n",
    "plt.xlabel('%s Latency (ms)' % target_hardware, size=12)\n",
    "plt.ylabel('ImageNet Top-1 Accuracy (%)', size=12)\n",
    "plt.legend(loc='lower right')\n",
    "plt.grid(True)\n",
    "plt.show()"
   ]
  },
  {
   "cell_type": "code",
   "execution_count": 52,
   "metadata": {},
   "outputs": [
    {
     "data": {
      "image/png": "[encoded data removed]",
      "text/plain": [
       "<Figure size 288x288 with 1 Axes>"
      ]
     },
     "metadata": {
      "needs_background": "light"
     },
     "output_type": "display_data"
    }
   ],
   "source": [
    "plt.figure(figsize=(4,4))\n",
    "plt.plot(lookup_table_latency, lookup_table_top5, 'x-', marker='o', color='red',  linewidth=2, markersize=8, label='Lookup_Table')\n",
    "plt.plot(model_memo_latency, model_memo_top5, 'x-', marker='*', color='darkred',  linewidth=2, markersize=8, label='Model_Memo')\n",
    "plt.plot(model_latency, model_top5, '--', marker='+', linewidth=2, markersize=8, label='Model')\n",
    "plt.xlabel('%s Latency (ms)' % target_hardware, size=12)\n",
    "plt.ylabel('ImageNet Top-5 Accuracy (%)', size=12)\n",
    "plt.legend(loc='lower right')\n",
    "plt.grid(True)\n",
    "plt.show()"
   ]
  },
  {
   "cell_type": "markdown",
   "metadata": {},
   "source": [
    "#### RTX 2080 Ti GPU\n",
    "\n",
    "Search Space: CompOFA\n",
    "\n",
    "5 constraints: 15, 20, 25, 30, 35\n",
    "\n",
    "Target Hardware: gpu"
   ]
  },
  {
   "cell_type": "markdown",
   "metadata": {},
   "source": [
    "Latency Measurement Results: \n",
    "\n",
    "Top1 Accuracy:\n",
    "[76.9000015258789, 76.70000076293945, 76.79999923706055, 77.20000267028809, 76.80000305175781]\n",
    "\n",
    "Top5 Accuracy:\n",
    "[94.2, 94.2, 94.5, 94.4, 94.2]\n",
    "\n",
    "Latency:\n",
    "[14.194464683532715, 17.401909828186035, 17.401909828186035, 17.401909828186035, 33.16640853881836]\n",
    "\n",
    "Time for NAS: 202.69879007339478"
   ]
  },
  {
   "cell_type": "markdown",
   "metadata": {},
   "source": [
    "RTX_OFA Model Latency Prediction WITH Memoization Results:\n",
    "\n",
    "Top1 Accuracy:\n",
    "[77.39999961853027, 77.00000190734863, 77.4000015258789, 77.00000190734863, 76.5]\n",
    "\n",
    "Top5 Accuracy:\n",
    "[94.0, 94.2, 94.2, 94.3, 94.5]\n",
    "\n",
    "Latency:\n",
    "[13.162400245666504, 15.776034355163574, 15.776034355163574, 15.776034355163574, 32.576904296875]\n",
    "\n",
    "\n",
    "Time for NAS: 57.54925608634949"
   ]
  },
  {
   "cell_type": "markdown",
   "metadata": {},
   "source": [
    "RTX_OFA Note10_FineTuned Model Latency Prediction WITH Memoization Results:\n",
    "\n",
    "Top1 Accuracy:\n",
    "[76.20000076293945, 77.70000267028809, 77.00000190734863, 76.70000076293945, 77.20000267028809]\n",
    "\n",
    "Top5 Accuracy:\n",
    "[94.2, 94.4, 94.2, 94.3, 94.2]\n",
    "\n",
    "Latency:\n",
    "[14.683911323547363, 15.258056640625, 15.258056640625, 29.110185623168945, 31.35794448852539]\n",
    "\n",
    "\n",
    "Time for NAS: 57.574804067611694"
   ]
  },
  {
   "cell_type": "code",
   "execution_count": 53,
   "metadata": {},
   "outputs": [],
   "source": [
    "measure_top1 = [76.90, 76.70, 76.79, 77.20, 76.80]\n",
    "measure_top5 = [94.2, 94.2, 94.5, 94.4, 94.2]\n",
    "measure_latency = [14.19, 17.40, 17.40, 17.40, 33.16]\n",
    "\n",
    "model_top1 = [77.39, 77.00, 77.40, 77.00, 76.50]\n",
    "model_top5 = [94.0, 94.2, 94.2, 94.3, 94.5]\n",
    "model_latency = [13.16, 15.77, 15.77, 15.77, 32.57]\n",
    "\n",
    "finetuned_top1 = [76.20, 77.70, 77.00, 76.70, 77.20]\n",
    "finetuned_top5 = [94.2, 94.4, 94.2, 94.3, 94.2]\n",
    "finetuned_latency = [14.68, 15.25, 15.25, 29.11, 31.35]"
   ]
  },
  {
   "cell_type": "code",
   "execution_count": 54,
   "metadata": {},
   "outputs": [
    {
     "data": {
      "image/png": "[encoded data removed]",
      "text/plain": [
       "<Figure size 288x288 with 1 Axes>"
      ]
     },
     "metadata": {
      "needs_background": "light"
     },
     "output_type": "display_data"
    }
   ],
   "source": [
    "target_hardware = 'RTX_2080_Ti_GPU'\n",
    "plt.figure(figsize=(4,4))\n",
    "plt.plot(measure_latency, measure_top1, 'x-', marker='o', color='red',  linewidth=2, markersize=8, label='Latency_Measure')\n",
    "plt.plot(model_latency, model_top1, 'x-', marker='*', color='darkred',  linewidth=2, markersize=8, label='RTX_Model')\n",
    "plt.plot(finetuned_latency, finetuned_top1, '--', marker='+', linewidth=2, markersize=8, label='Finetuned')\n",
    "plt.xlabel('%s Latency (ms)' % target_hardware, size=12)\n",
    "plt.ylabel('ImageNet Top-1 Accuracy (%)', size=12)\n",
    "plt.legend(loc='lower right')\n",
    "plt.grid(True)\n",
    "plt.show()"
   ]
  },
  {
   "cell_type": "code",
   "execution_count": 55,
   "metadata": {},
   "outputs": [
    {
     "data": {
      "image/png": "[encoded data removed]",
      "text/plain": [
       "<Figure size 288x288 with 1 Axes>"
      ]
     },
     "metadata": {
      "needs_background": "light"
     },
     "output_type": "display_data"
    }
   ],
   "source": [
    "target_hardware = 'RTX_2080_Ti_GPU'\n",
    "plt.figure(figsize=(4,4))\n",
    "plt.plot(measure_latency, measure_top5, 'x-', marker='o', color='red',  linewidth=2, markersize=8, label='Latency_Measure')\n",
    "plt.plot(model_latency, model_top5, 'x-', marker='*', color='darkred',  linewidth=2, markersize=8, label='RTX_Model')\n",
    "plt.plot(finetuned_latency, finetuned_top5, '--', marker='+', linewidth=2, markersize=8, label='Finetuned')\n",
    "plt.xlabel('%s Latency (ms)' % target_hardware, size=12)\n",
    "plt.ylabel('ImageNet Top-5 Accuracy (%)', size=12)\n",
    "plt.legend(loc='lower right')\n",
    "plt.grid(True)\n",
    "plt.show()"
   ]
  },
  {
   "cell_type": "markdown",
   "metadata": {},
   "source": [
    "#### RTX 2080 Ti GPU\n",
    "\n",
    "#### Comparison of Finetuned Model with Hardware specific model\n",
    "\n",
    "Search Space: Elastic Kernel CompOFA\n",
    "\n",
    "5 constraints: 15, 20, 25, 30, 35\n",
    "\n",
    "Target Hardware: gpu"
   ]
  },
  {
   "cell_type": "markdown",
   "metadata": {},
   "source": [
    "RTX_OFA Model Latency Prediction WITH Memoization Results:\n",
    "\n",
    "Top1 Accuracy:\n",
    "[77.10000228881836, 77.40000343322754, 77.30000114440918, 77.20000076293945, 77.90000343322754]\n",
    "\n",
    "Top5 Accuracy:\n",
    "[94.5, 94.8, 94.8, 95.0, 94.7]\n",
    "\n",
    "Latency:\n",
    "[14.033023834228516, 17.6427001953125, 24.21096420288086, 22.906673431396484, 23.46289825439453]\n",
    "\n",
    "\n",
    "Time for NAS: 147.10737991333008"
   ]
  },
  {
   "cell_type": "markdown",
   "metadata": {},
   "source": [
    "RTX_OFA Note10_FineTuned Model Latency Prediction WITH Memoization Results:\n",
    "\n",
    "Top1 Accuracy:\n",
    "[76.70000076293945, 78.10000038146973, 77.10000038146973, 78.20000076293945, 76.80000114440918]\n",
    "\n",
    "Top5 Accuracy:\n",
    "[93.8, 94.5, 94.6, 94.6, 94.8]\n",
    "\n",
    "Latency:\n",
    "[14.805492401123047, 19.535118103027344, 22.045217514038086, 26.886178970336914, 34.85415267944336]\n",
    "\n",
    "\n",
    "Time for NAS: 139.161794424057"
   ]
  },
  {
   "cell_type": "code",
   "execution_count": 56,
   "metadata": {},
   "outputs": [],
   "source": [
    "model_top1 = [77.10, 77.40, 77.30, 77.20, 77.90]\n",
    "model_top5 = [94.5, 94.8, 94.8, 95.0, 94.7]\n",
    "model_latency = [14.03, 17.64, 24.21, 22.90, 23.46]\n",
    "\n",
    "finetuned_top1 = [76.70, 78.10, 77.10, 78.20, 76.80]\n",
    "finetuned_top5 = [93.8, 94.5, 94.6, 94.6, 94.8]\n",
    "finetuned_latency = [14.80, 19.53, 22.04, 26.88, 34.85]"
   ]
  },
  {
   "cell_type": "code",
   "execution_count": 57,
   "metadata": {},
   "outputs": [
    {
     "data": {
      "image/png": "[encoded data removed]",
      "text/plain": [
       "<Figure size 288x288 with 1 Axes>"
      ]
     },
     "metadata": {
      "needs_background": "light"
     },
     "output_type": "display_data"
    }
   ],
   "source": [
    "target_hardware = 'RTX_2080_Ti_GPU'\n",
    "plt.figure(figsize=(4,4))\n",
    "plt.plot(model_latency, model_top1, 'x-', marker='*', color='darkred',  linewidth=2, markersize=8, label='RTX_Model')\n",
    "plt.plot(finetuned_latency, finetuned_top1, '--', marker='+', linewidth=2, markersize=8, label='Finetuned')\n",
    "plt.xlabel('%s Latency (ms)' % target_hardware, size=12)\n",
    "plt.ylabel('ImageNet Top-1 Accuracy (%)', size=12)\n",
    "plt.legend(loc='lower right')\n",
    "plt.grid(True)\n",
    "plt.show()"
   ]
  },
  {
   "cell_type": "code",
   "execution_count": 58,
   "metadata": {},
   "outputs": [
    {
     "data": {
      "image/png": "[encoded data removed]",
      "text/plain": [
       "<Figure size 288x288 with 1 Axes>"
      ]
     },
     "metadata": {
      "needs_background": "light"
     },
     "output_type": "display_data"
    }
   ],
   "source": [
    "target_hardware = 'RTX_2080_Ti_GPU'\n",
    "plt.figure(figsize=(4,4))\n",
    "plt.plot(model_latency, model_top5, 'x-', marker='*', color='darkred',  linewidth=2, markersize=8, label='RTX_Model')\n",
    "plt.plot(finetuned_latency, finetuned_top5, '--', marker='+', linewidth=2, markersize=8, label='Finetuned')\n",
    "plt.xlabel('%s Latency (ms)' % target_hardware, size=12)\n",
    "plt.ylabel('ImageNet Top-5 Accuracy (%)', size=12)\n",
    "plt.legend(loc='lower right')\n",
    "plt.grid(True)\n",
    "plt.show()"
   ]
  }
 ],
 "metadata": {
  "kernelspec": {
   "display_name": "Python 3",
   "language": "python",
   "name": "python3"
  },
  "language_info": {
   "codemirror_mode": {
    "name": "ipython",
    "version": 3
   },
   "file_extension": ".py",
   "mimetype": "text/x-python",
   "name": "python",
   "nbconvert_exporter": "python",
   "pygments_lexer": "ipython3",
   "version": "3.7.0"
  }
 },
 "nbformat": 4,
 "nbformat_minor": 2
}
